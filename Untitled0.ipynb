{
  "nbformat": 4,
  "nbformat_minor": 0,
  "metadata": {
    "colab": {
      "provenance": [],
      "authorship_tag": "ABX9TyNytRcUnoFs/plVfWPezDtg",
      "include_colab_link": true
    },
    "kernelspec": {
      "name": "python3",
      "display_name": "Python 3"
    },
    "language_info": {
      "name": "python"
    }
  },
  "cells": [
    {
      "cell_type": "markdown",
      "metadata": {
        "id": "view-in-github",
        "colab_type": "text"
      },
      "source": [
        "<a href=\"https://colab.research.google.com/github/kelly750223/_20250503/blob/main/Untitled0.ipynb\" target=\"_parent\"><img src=\"https://colab.research.google.com/assets/colab-badge.svg\" alt=\"Open In Colab\"/></a>"
      ]
    },
    {
      "cell_type": "code",
      "execution_count": null,
      "metadata": {
        "id": "FP-r9mmxC2Bd",
        "colab": {
          "base_uri": "https://localhost:8080/"
        },
        "outputId": "6ecb60cb-1911-4c47-cdef-66cc0ef87670"
      },
      "outputs": [
        {
          "output_type": "stream",
          "name": "stdout",
          "text": [
            "hello!python!\n"
          ]
        }
      ],
      "source": [
        "print (\"hello!python!\")"
      ]
    },
    {
      "cell_type": "markdown",
      "source": [],
      "metadata": {
        "id": "wC1FknEwMWNZ"
      }
    },
    {
      "cell_type": "markdown",
      "source": [
        "#大標1\n",
        "##大標2\n",
        "###大標3\n",
        "#####大標4\n",
        "######大標5\n",
        "#######大標6"
      ],
      "metadata": {
        "id": "ZXS4oU4OMYV4"
      }
    }
  ]
}