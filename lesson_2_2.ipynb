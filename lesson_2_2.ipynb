{
  "nbformat": 4,
  "nbformat_minor": 0,
  "metadata": {
    "colab": {
      "provenance": [],
      "authorship_tag": "ABX9TyOixPSLS6z5Z1Ift4x8rR2v",
      "include_colab_link": true
    },
    "kernelspec": {
      "name": "python3",
      "display_name": "Python 3"
    },
    "language_info": {
      "name": "python"
    }
  },
  "cells": [
    {
      "cell_type": "markdown",
      "metadata": {
        "id": "view-in-github",
        "colab_type": "text"
      },
      "source": [
        "<a href=\"https://colab.research.google.com/github/kelly750223/_20250503/blob/main/lesson_2_2.ipynb\" target=\"_parent\"><img src=\"https://colab.research.google.com/assets/colab-badge.svg\" alt=\"Open In Colab\"/></a>"
      ]
    },
    {
      "cell_type": "code",
      "execution_count": null,
      "metadata": {
        "colab": {
          "base_uri": "https://localhost:8080/"
        },
        "id": "NQ8B-r_iPM58",
        "outputId": "19ac4195-72f4-4112-8463-7531518a225b"
      },
      "outputs": [
        {
          "output_type": "stream",
          "name": "stdout",
          "text": [
            "hello!python!\n"
          ]
        }
      ],
      "source": [
        "print(\"hello!python!\")"
      ]
    },
    {
      "cell_type": "markdown",
      "source": [],
      "metadata": {
        "id": "Rz-KPlJ2PfOY"
      }
    },
    {
      "cell_type": "markdown",
      "source": [
        "#大標1\n",
        "##大標2\n",
        "###大標3\n",
        "####大標4\n",
        "#####大標5\n",
        "######大標6"
      ],
      "metadata": {
        "id": "w0ZlR8tLPgRQ"
      }
    }
  ]
}